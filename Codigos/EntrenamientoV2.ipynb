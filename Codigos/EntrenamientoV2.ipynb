{
 "cells": [
  {
   "cell_type": "code",
   "execution_count": 1,
   "metadata": {},
   "outputs": [
    {
     "name": "stdout",
     "output_type": "stream",
     "text": [
      "WARNING:tensorflow:From c:\\Users\\Asus\\Documents\\aUniversidad\\SEMESTRE 23-2\\Bio_I\\Proyecto\\venv\\lib\\site-packages\\keras\\src\\losses.py:2976: The name tf.losses.sparse_softmax_cross_entropy is deprecated. Please use tf.compat.v1.losses.sparse_softmax_cross_entropy instead.\n",
      "\n"
     ]
    }
   ],
   "source": [
    "import pandas as pd\n",
    "import matplotlib.pyplot as plt\n",
    "import pandas as pd\n",
    "import matplotlib.pyplot as plt\n",
    "import seaborn as sns\n",
    "from sklearn.model_selection import train_test_split\n",
    "from sklearn.preprocessing import StandardScaler\n",
    "import numpy as np\n",
    "from tensorflow.keras.preprocessing.sequence import pad_sequences\n",
    "from tensorflow.keras.utils import to_categorical\n",
    "from tensorflow.keras.layers import Masking\n",
    "from tensorflow.keras.layers import LSTM, GlobalMaxPooling1D, Dense\n",
    "from tensorflow.keras.models import Sequential\n",
    "from tensorflow.keras.preprocessing.sequence import pad_sequences\n",
    "\n",
    "\n",
    "data = pd.read_csv('SuperData.csv')"
   ]
  },
  {
   "cell_type": "code",
   "execution_count": 2,
   "metadata": {},
   "outputs": [],
   "source": [
    "train_sessions, test_sessions = train_test_split(data['label'].unique(), test_size=0.2, random_state=42)\n",
    "train_data = data[data['label'].isin(train_sessions)]\n",
    "test_data = data[data['label'].isin(test_sessions)]\n",
    "# Normalización\n",
    "scaler = StandardScaler()\n",
    "\n",
    "# Copia explícita para evitar la advertencia\n",
    "train_data_copy = train_data.copy()\n",
    "test_data_copy = test_data.copy()\n",
    "\n",
    "# Aplicar la transformación a las copias\n",
    "train_data_copy[['horizontal', 'vertical']] = scaler.fit_transform(train_data_copy[['horizontal', 'vertical']])\n",
    "test_data_copy[['horizontal', 'vertical']] = scaler.transform(test_data_copy[['horizontal', 'vertical']])"
   ]
  },
  {
   "cell_type": "code",
   "execution_count": 3,
   "metadata": {},
   "outputs": [],
   "source": [
    "X_train = []\n",
    "y_train = []\n",
    "for label, group in train_data.groupby('label'):\n",
    "    seq = group[['horizontal', 'vertical']].values\n",
    "    X_train.append(seq)\n",
    "\n",
    "for label, group in train_data.groupby('label'):\n",
    "    if 'R' in group['movement_type'].values:\n",
    "        y_train.append(2)\n",
    "    elif 'L' in group['movement_type'].values:\n",
    "        y_train.append(1)\n",
    "    else:\n",
    "        y_train.append(0)\n",
    "\n",
    "X_test = []\n",
    "y_test = []\n",
    "for label, group in test_data.groupby('label'):\n",
    "    seq = group[['horizontal', 'vertical']].values\n",
    "    X_test.append(seq)\n",
    "\n",
    "for label, group in test_data.groupby('label'):\n",
    "    if 'R' in group['movement_type'].values:\n",
    "        y_test.append(2)\n",
    "    elif 'L' in group['movement_type'].values:\n",
    "        y_test.append(1)\n",
    "    else:\n",
    "        y_test.append(0)\n",
    "\n",
    "# Convert X_train, y_train, X_test, and y_test to numpy arrays\n",
    "X_train = np.array(X_train, dtype=object)\n",
    "# Convert labels to one-hot vectors\n",
    "y_train = to_categorical(y_train, num_classes=3)\n",
    "\n",
    "X_test = np.array(X_test, dtype=object)\n",
    "y_test = to_categorical(y_test, num_classes=3)"
   ]
  },
  {
   "cell_type": "code",
   "execution_count": 8,
   "metadata": {},
   "outputs": [
    {
     "name": "stdout",
     "output_type": "stream",
     "text": [
      "Epoch 1/20\n",
      "4/4 [==============================] - 20s 3s/step - loss: 1.1013 - accuracy: 0.3333\n",
      "Epoch 2/20\n",
      "4/4 [==============================] - 11s 3s/step - loss: 1.0822 - accuracy: 0.5641\n",
      "Epoch 3/20\n",
      "4/4 [==============================] - 10s 3s/step - loss: 1.0743 - accuracy: 0.5983\n",
      "Epoch 4/20\n",
      "4/4 [==============================] - 10s 2s/step - loss: 1.0623 - accuracy: 0.6154\n",
      "Epoch 5/20\n",
      "4/4 [==============================] - 12s 3s/step - loss: 1.0524 - accuracy: 0.6154\n",
      "Epoch 6/20\n",
      "4/4 [==============================] - 12s 3s/step - loss: 1.0398 - accuracy: 0.6239\n",
      "Epoch 7/20\n",
      "4/4 [==============================] - 11s 3s/step - loss: 1.0267 - accuracy: 0.6068\n",
      "Epoch 8/20\n",
      "4/4 [==============================] - 12s 3s/step - loss: 1.0079 - accuracy: 0.6068\n",
      "Epoch 9/20\n",
      "4/4 [==============================] - 12s 3s/step - loss: 0.9855 - accuracy: 0.6068\n",
      "Epoch 10/20\n",
      "3/4 [=====================>........] - ETA: 3s - loss: 0.9787 - accuracy: 0.6146"
     ]
    },
    {
     "ename": "KeyboardInterrupt",
     "evalue": "",
     "output_type": "error",
     "traceback": [
      "\u001b[1;31m---------------------------------------------------------------------------\u001b[0m",
      "\u001b[1;31mKeyboardInterrupt\u001b[0m                         Traceback (most recent call last)",
      "\u001b[1;32mc:\\Users\\Asus\\Documents\\aUniversidad\\SEMESTRE 23-2\\Bio_I\\Proyecto\\EntrenamientoV2.ipynb Cell 4\u001b[0m line \u001b[0;36m1\n\u001b[0;32m     <a href='vscode-notebook-cell:/c%3A/Users/Asus/Documents/aUniversidad/SEMESTRE%2023-2/Bio_I/Proyecto/EntrenamientoV2.ipynb#W4sZmlsZQ%3D%3D?line=11'>12</a>\u001b[0m X_test_padded \u001b[39m=\u001b[39m pad_sequences(X_test, dtype\u001b[39m=\u001b[39m\u001b[39m'\u001b[39m\u001b[39mfloat32\u001b[39m\u001b[39m'\u001b[39m, padding\u001b[39m=\u001b[39m\u001b[39m'\u001b[39m\u001b[39mpost\u001b[39m\u001b[39m'\u001b[39m)\n\u001b[0;32m     <a href='vscode-notebook-cell:/c%3A/Users/Asus/Documents/aUniversidad/SEMESTRE%2023-2/Bio_I/Proyecto/EntrenamientoV2.ipynb#W4sZmlsZQ%3D%3D?line=13'>14</a>\u001b[0m \u001b[39m# Now, you can feed the padded sequences into your model\u001b[39;00m\n\u001b[1;32m---> <a href='vscode-notebook-cell:/c%3A/Users/Asus/Documents/aUniversidad/SEMESTRE%2023-2/Bio_I/Proyecto/EntrenamientoV2.ipynb#W4sZmlsZQ%3D%3D?line=14'>15</a>\u001b[0m model\u001b[39m.\u001b[39;49mfit(X_train_padded, y_train, epochs\u001b[39m=\u001b[39;49m\u001b[39m20\u001b[39;49m, batch_size\u001b[39m=\u001b[39;49m\u001b[39m32\u001b[39;49m)\n\u001b[0;32m     <a href='vscode-notebook-cell:/c%3A/Users/Asus/Documents/aUniversidad/SEMESTRE%2023-2/Bio_I/Proyecto/EntrenamientoV2.ipynb#W4sZmlsZQ%3D%3D?line=16'>17</a>\u001b[0m \u001b[39m# Evaluate your model\u001b[39;00m\n\u001b[0;32m     <a href='vscode-notebook-cell:/c%3A/Users/Asus/Documents/aUniversidad/SEMESTRE%2023-2/Bio_I/Proyecto/EntrenamientoV2.ipynb#W4sZmlsZQ%3D%3D?line=17'>18</a>\u001b[0m test_loss, test_accuracy \u001b[39m=\u001b[39m model\u001b[39m.\u001b[39mevaluate(X_test_padded, y_test)\n",
      "File \u001b[1;32mc:\\Users\\Asus\\Documents\\aUniversidad\\SEMESTRE 23-2\\Bio_I\\Proyecto\\venv\\lib\\site-packages\\keras\\src\\utils\\traceback_utils.py:65\u001b[0m, in \u001b[0;36mfilter_traceback.<locals>.error_handler\u001b[1;34m(*args, **kwargs)\u001b[0m\n\u001b[0;32m     63\u001b[0m filtered_tb \u001b[39m=\u001b[39m \u001b[39mNone\u001b[39;00m\n\u001b[0;32m     64\u001b[0m \u001b[39mtry\u001b[39;00m:\n\u001b[1;32m---> 65\u001b[0m     \u001b[39mreturn\u001b[39;00m fn(\u001b[39m*\u001b[39margs, \u001b[39m*\u001b[39m\u001b[39m*\u001b[39mkwargs)\n\u001b[0;32m     66\u001b[0m \u001b[39mexcept\u001b[39;00m \u001b[39mException\u001b[39;00m \u001b[39mas\u001b[39;00m e:\n\u001b[0;32m     67\u001b[0m     filtered_tb \u001b[39m=\u001b[39m _process_traceback_frames(e\u001b[39m.\u001b[39m__traceback__)\n",
      "File \u001b[1;32mc:\\Users\\Asus\\Documents\\aUniversidad\\SEMESTRE 23-2\\Bio_I\\Proyecto\\venv\\lib\\site-packages\\keras\\src\\engine\\training.py:1807\u001b[0m, in \u001b[0;36mModel.fit\u001b[1;34m(self, x, y, batch_size, epochs, verbose, callbacks, validation_split, validation_data, shuffle, class_weight, sample_weight, initial_epoch, steps_per_epoch, validation_steps, validation_batch_size, validation_freq, max_queue_size, workers, use_multiprocessing)\u001b[0m\n\u001b[0;32m   1799\u001b[0m \u001b[39mwith\u001b[39;00m tf\u001b[39m.\u001b[39mprofiler\u001b[39m.\u001b[39mexperimental\u001b[39m.\u001b[39mTrace(\n\u001b[0;32m   1800\u001b[0m     \u001b[39m\"\u001b[39m\u001b[39mtrain\u001b[39m\u001b[39m\"\u001b[39m,\n\u001b[0;32m   1801\u001b[0m     epoch_num\u001b[39m=\u001b[39mepoch,\n\u001b[1;32m   (...)\u001b[0m\n\u001b[0;32m   1804\u001b[0m     _r\u001b[39m=\u001b[39m\u001b[39m1\u001b[39m,\n\u001b[0;32m   1805\u001b[0m ):\n\u001b[0;32m   1806\u001b[0m     callbacks\u001b[39m.\u001b[39mon_train_batch_begin(step)\n\u001b[1;32m-> 1807\u001b[0m     tmp_logs \u001b[39m=\u001b[39m \u001b[39mself\u001b[39;49m\u001b[39m.\u001b[39;49mtrain_function(iterator)\n\u001b[0;32m   1808\u001b[0m     \u001b[39mif\u001b[39;00m data_handler\u001b[39m.\u001b[39mshould_sync:\n\u001b[0;32m   1809\u001b[0m         context\u001b[39m.\u001b[39masync_wait()\n",
      "File \u001b[1;32mc:\\Users\\Asus\\Documents\\aUniversidad\\SEMESTRE 23-2\\Bio_I\\Proyecto\\venv\\lib\\site-packages\\tensorflow\\python\\util\\traceback_utils.py:150\u001b[0m, in \u001b[0;36mfilter_traceback.<locals>.error_handler\u001b[1;34m(*args, **kwargs)\u001b[0m\n\u001b[0;32m    148\u001b[0m filtered_tb \u001b[39m=\u001b[39m \u001b[39mNone\u001b[39;00m\n\u001b[0;32m    149\u001b[0m \u001b[39mtry\u001b[39;00m:\n\u001b[1;32m--> 150\u001b[0m   \u001b[39mreturn\u001b[39;00m fn(\u001b[39m*\u001b[39margs, \u001b[39m*\u001b[39m\u001b[39m*\u001b[39mkwargs)\n\u001b[0;32m    151\u001b[0m \u001b[39mexcept\u001b[39;00m \u001b[39mException\u001b[39;00m \u001b[39mas\u001b[39;00m e:\n\u001b[0;32m    152\u001b[0m   filtered_tb \u001b[39m=\u001b[39m _process_traceback_frames(e\u001b[39m.\u001b[39m__traceback__)\n",
      "File \u001b[1;32mc:\\Users\\Asus\\Documents\\aUniversidad\\SEMESTRE 23-2\\Bio_I\\Proyecto\\venv\\lib\\site-packages\\tensorflow\\python\\eager\\polymorphic_function\\polymorphic_function.py:832\u001b[0m, in \u001b[0;36mFunction.__call__\u001b[1;34m(self, *args, **kwds)\u001b[0m\n\u001b[0;32m    829\u001b[0m compiler \u001b[39m=\u001b[39m \u001b[39m\"\u001b[39m\u001b[39mxla\u001b[39m\u001b[39m\"\u001b[39m \u001b[39mif\u001b[39;00m \u001b[39mself\u001b[39m\u001b[39m.\u001b[39m_jit_compile \u001b[39melse\u001b[39;00m \u001b[39m\"\u001b[39m\u001b[39mnonXla\u001b[39m\u001b[39m\"\u001b[39m\n\u001b[0;32m    831\u001b[0m \u001b[39mwith\u001b[39;00m OptionalXlaContext(\u001b[39mself\u001b[39m\u001b[39m.\u001b[39m_jit_compile):\n\u001b[1;32m--> 832\u001b[0m   result \u001b[39m=\u001b[39m \u001b[39mself\u001b[39m\u001b[39m.\u001b[39m_call(\u001b[39m*\u001b[39margs, \u001b[39m*\u001b[39m\u001b[39m*\u001b[39mkwds)\n\u001b[0;32m    834\u001b[0m new_tracing_count \u001b[39m=\u001b[39m \u001b[39mself\u001b[39m\u001b[39m.\u001b[39mexperimental_get_tracing_count()\n\u001b[0;32m    835\u001b[0m without_tracing \u001b[39m=\u001b[39m (tracing_count \u001b[39m==\u001b[39m new_tracing_count)\n",
      "File \u001b[1;32mc:\\Users\\Asus\\Documents\\aUniversidad\\SEMESTRE 23-2\\Bio_I\\Proyecto\\venv\\lib\\site-packages\\tensorflow\\python\\eager\\polymorphic_function\\polymorphic_function.py:868\u001b[0m, in \u001b[0;36mFunction._call\u001b[1;34m(self, *args, **kwds)\u001b[0m\n\u001b[0;32m    865\u001b[0m   \u001b[39mself\u001b[39m\u001b[39m.\u001b[39m_lock\u001b[39m.\u001b[39mrelease()\n\u001b[0;32m    866\u001b[0m   \u001b[39m# In this case we have created variables on the first call, so we run the\u001b[39;00m\n\u001b[0;32m    867\u001b[0m   \u001b[39m# defunned version which is guaranteed to never create variables.\u001b[39;00m\n\u001b[1;32m--> 868\u001b[0m   \u001b[39mreturn\u001b[39;00m tracing_compilation\u001b[39m.\u001b[39;49mcall_function(\n\u001b[0;32m    869\u001b[0m       args, kwds, \u001b[39mself\u001b[39;49m\u001b[39m.\u001b[39;49m_no_variable_creation_config\n\u001b[0;32m    870\u001b[0m   )\n\u001b[0;32m    871\u001b[0m \u001b[39melif\u001b[39;00m \u001b[39mself\u001b[39m\u001b[39m.\u001b[39m_variable_creation_config \u001b[39mis\u001b[39;00m \u001b[39mnot\u001b[39;00m \u001b[39mNone\u001b[39;00m:\n\u001b[0;32m    872\u001b[0m   \u001b[39m# Release the lock early so that multiple threads can perform the call\u001b[39;00m\n\u001b[0;32m    873\u001b[0m   \u001b[39m# in parallel.\u001b[39;00m\n\u001b[0;32m    874\u001b[0m   \u001b[39mself\u001b[39m\u001b[39m.\u001b[39m_lock\u001b[39m.\u001b[39mrelease()\n",
      "File \u001b[1;32mc:\\Users\\Asus\\Documents\\aUniversidad\\SEMESTRE 23-2\\Bio_I\\Proyecto\\venv\\lib\\site-packages\\tensorflow\\python\\eager\\polymorphic_function\\tracing_compilation.py:139\u001b[0m, in \u001b[0;36mcall_function\u001b[1;34m(args, kwargs, tracing_options)\u001b[0m\n\u001b[0;32m    137\u001b[0m bound_args \u001b[39m=\u001b[39m function\u001b[39m.\u001b[39mfunction_type\u001b[39m.\u001b[39mbind(\u001b[39m*\u001b[39margs, \u001b[39m*\u001b[39m\u001b[39m*\u001b[39mkwargs)\n\u001b[0;32m    138\u001b[0m flat_inputs \u001b[39m=\u001b[39m function\u001b[39m.\u001b[39mfunction_type\u001b[39m.\u001b[39munpack_inputs(bound_args)\n\u001b[1;32m--> 139\u001b[0m \u001b[39mreturn\u001b[39;00m function\u001b[39m.\u001b[39;49m_call_flat(  \u001b[39m# pylint: disable=protected-access\u001b[39;49;00m\n\u001b[0;32m    140\u001b[0m     flat_inputs, captured_inputs\u001b[39m=\u001b[39;49mfunction\u001b[39m.\u001b[39;49mcaptured_inputs\n\u001b[0;32m    141\u001b[0m )\n",
      "File \u001b[1;32mc:\\Users\\Asus\\Documents\\aUniversidad\\SEMESTRE 23-2\\Bio_I\\Proyecto\\venv\\lib\\site-packages\\tensorflow\\python\\eager\\polymorphic_function\\concrete_function.py:1323\u001b[0m, in \u001b[0;36mConcreteFunction._call_flat\u001b[1;34m(self, tensor_inputs, captured_inputs)\u001b[0m\n\u001b[0;32m   1319\u001b[0m possible_gradient_type \u001b[39m=\u001b[39m gradients_util\u001b[39m.\u001b[39mPossibleTapeGradientTypes(args)\n\u001b[0;32m   1320\u001b[0m \u001b[39mif\u001b[39;00m (possible_gradient_type \u001b[39m==\u001b[39m gradients_util\u001b[39m.\u001b[39mPOSSIBLE_GRADIENT_TYPES_NONE\n\u001b[0;32m   1321\u001b[0m     \u001b[39mand\u001b[39;00m executing_eagerly):\n\u001b[0;32m   1322\u001b[0m   \u001b[39m# No tape is watching; skip to running the function.\u001b[39;00m\n\u001b[1;32m-> 1323\u001b[0m   \u001b[39mreturn\u001b[39;00m \u001b[39mself\u001b[39;49m\u001b[39m.\u001b[39;49m_inference_function\u001b[39m.\u001b[39;49mcall_preflattened(args)\n\u001b[0;32m   1324\u001b[0m forward_backward \u001b[39m=\u001b[39m \u001b[39mself\u001b[39m\u001b[39m.\u001b[39m_select_forward_and_backward_functions(\n\u001b[0;32m   1325\u001b[0m     args,\n\u001b[0;32m   1326\u001b[0m     possible_gradient_type,\n\u001b[0;32m   1327\u001b[0m     executing_eagerly)\n\u001b[0;32m   1328\u001b[0m forward_function, args_with_tangents \u001b[39m=\u001b[39m forward_backward\u001b[39m.\u001b[39mforward()\n",
      "File \u001b[1;32mc:\\Users\\Asus\\Documents\\aUniversidad\\SEMESTRE 23-2\\Bio_I\\Proyecto\\venv\\lib\\site-packages\\tensorflow\\python\\eager\\polymorphic_function\\atomic_function.py:216\u001b[0m, in \u001b[0;36mAtomicFunction.call_preflattened\u001b[1;34m(self, args)\u001b[0m\n\u001b[0;32m    214\u001b[0m \u001b[39mdef\u001b[39;00m \u001b[39mcall_preflattened\u001b[39m(\u001b[39mself\u001b[39m, args: Sequence[core\u001b[39m.\u001b[39mTensor]) \u001b[39m-\u001b[39m\u001b[39m>\u001b[39m Any:\n\u001b[0;32m    215\u001b[0m \u001b[39m  \u001b[39m\u001b[39m\"\"\"Calls with flattened tensor inputs and returns the structured output.\"\"\"\u001b[39;00m\n\u001b[1;32m--> 216\u001b[0m   flat_outputs \u001b[39m=\u001b[39m \u001b[39mself\u001b[39;49m\u001b[39m.\u001b[39;49mcall_flat(\u001b[39m*\u001b[39;49margs)\n\u001b[0;32m    217\u001b[0m   \u001b[39mreturn\u001b[39;00m \u001b[39mself\u001b[39m\u001b[39m.\u001b[39mfunction_type\u001b[39m.\u001b[39mpack_output(flat_outputs)\n",
      "File \u001b[1;32mc:\\Users\\Asus\\Documents\\aUniversidad\\SEMESTRE 23-2\\Bio_I\\Proyecto\\venv\\lib\\site-packages\\tensorflow\\python\\eager\\polymorphic_function\\atomic_function.py:251\u001b[0m, in \u001b[0;36mAtomicFunction.call_flat\u001b[1;34m(self, *args)\u001b[0m\n\u001b[0;32m    249\u001b[0m \u001b[39mwith\u001b[39;00m record\u001b[39m.\u001b[39mstop_recording():\n\u001b[0;32m    250\u001b[0m   \u001b[39mif\u001b[39;00m \u001b[39mself\u001b[39m\u001b[39m.\u001b[39m_bound_context\u001b[39m.\u001b[39mexecuting_eagerly():\n\u001b[1;32m--> 251\u001b[0m     outputs \u001b[39m=\u001b[39m \u001b[39mself\u001b[39;49m\u001b[39m.\u001b[39;49m_bound_context\u001b[39m.\u001b[39;49mcall_function(\n\u001b[0;32m    252\u001b[0m         \u001b[39mself\u001b[39;49m\u001b[39m.\u001b[39;49mname,\n\u001b[0;32m    253\u001b[0m         \u001b[39mlist\u001b[39;49m(args),\n\u001b[0;32m    254\u001b[0m         \u001b[39mlen\u001b[39;49m(\u001b[39mself\u001b[39;49m\u001b[39m.\u001b[39;49mfunction_type\u001b[39m.\u001b[39;49mflat_outputs),\n\u001b[0;32m    255\u001b[0m     )\n\u001b[0;32m    256\u001b[0m   \u001b[39melse\u001b[39;00m:\n\u001b[0;32m    257\u001b[0m     outputs \u001b[39m=\u001b[39m make_call_op_in_graph(\n\u001b[0;32m    258\u001b[0m         \u001b[39mself\u001b[39m,\n\u001b[0;32m    259\u001b[0m         \u001b[39mlist\u001b[39m(args),\n\u001b[0;32m    260\u001b[0m         \u001b[39mself\u001b[39m\u001b[39m.\u001b[39m_bound_context\u001b[39m.\u001b[39mfunction_call_options\u001b[39m.\u001b[39mas_attrs(),\n\u001b[0;32m    261\u001b[0m     )\n",
      "File \u001b[1;32mc:\\Users\\Asus\\Documents\\aUniversidad\\SEMESTRE 23-2\\Bio_I\\Proyecto\\venv\\lib\\site-packages\\tensorflow\\python\\eager\\context.py:1486\u001b[0m, in \u001b[0;36mContext.call_function\u001b[1;34m(self, name, tensor_inputs, num_outputs)\u001b[0m\n\u001b[0;32m   1484\u001b[0m cancellation_context \u001b[39m=\u001b[39m cancellation\u001b[39m.\u001b[39mcontext()\n\u001b[0;32m   1485\u001b[0m \u001b[39mif\u001b[39;00m cancellation_context \u001b[39mis\u001b[39;00m \u001b[39mNone\u001b[39;00m:\n\u001b[1;32m-> 1486\u001b[0m   outputs \u001b[39m=\u001b[39m execute\u001b[39m.\u001b[39;49mexecute(\n\u001b[0;32m   1487\u001b[0m       name\u001b[39m.\u001b[39;49mdecode(\u001b[39m\"\u001b[39;49m\u001b[39mutf-8\u001b[39;49m\u001b[39m\"\u001b[39;49m),\n\u001b[0;32m   1488\u001b[0m       num_outputs\u001b[39m=\u001b[39;49mnum_outputs,\n\u001b[0;32m   1489\u001b[0m       inputs\u001b[39m=\u001b[39;49mtensor_inputs,\n\u001b[0;32m   1490\u001b[0m       attrs\u001b[39m=\u001b[39;49mattrs,\n\u001b[0;32m   1491\u001b[0m       ctx\u001b[39m=\u001b[39;49m\u001b[39mself\u001b[39;49m,\n\u001b[0;32m   1492\u001b[0m   )\n\u001b[0;32m   1493\u001b[0m \u001b[39melse\u001b[39;00m:\n\u001b[0;32m   1494\u001b[0m   outputs \u001b[39m=\u001b[39m execute\u001b[39m.\u001b[39mexecute_with_cancellation(\n\u001b[0;32m   1495\u001b[0m       name\u001b[39m.\u001b[39mdecode(\u001b[39m\"\u001b[39m\u001b[39mutf-8\u001b[39m\u001b[39m\"\u001b[39m),\n\u001b[0;32m   1496\u001b[0m       num_outputs\u001b[39m=\u001b[39mnum_outputs,\n\u001b[1;32m   (...)\u001b[0m\n\u001b[0;32m   1500\u001b[0m       cancellation_manager\u001b[39m=\u001b[39mcancellation_context,\n\u001b[0;32m   1501\u001b[0m   )\n",
      "File \u001b[1;32mc:\\Users\\Asus\\Documents\\aUniversidad\\SEMESTRE 23-2\\Bio_I\\Proyecto\\venv\\lib\\site-packages\\tensorflow\\python\\eager\\execute.py:53\u001b[0m, in \u001b[0;36mquick_execute\u001b[1;34m(op_name, num_outputs, inputs, attrs, ctx, name)\u001b[0m\n\u001b[0;32m     51\u001b[0m \u001b[39mtry\u001b[39;00m:\n\u001b[0;32m     52\u001b[0m   ctx\u001b[39m.\u001b[39mensure_initialized()\n\u001b[1;32m---> 53\u001b[0m   tensors \u001b[39m=\u001b[39m pywrap_tfe\u001b[39m.\u001b[39;49mTFE_Py_Execute(ctx\u001b[39m.\u001b[39;49m_handle, device_name, op_name,\n\u001b[0;32m     54\u001b[0m                                       inputs, attrs, num_outputs)\n\u001b[0;32m     55\u001b[0m \u001b[39mexcept\u001b[39;00m core\u001b[39m.\u001b[39m_NotOkStatusException \u001b[39mas\u001b[39;00m e:\n\u001b[0;32m     56\u001b[0m   \u001b[39mif\u001b[39;00m name \u001b[39mis\u001b[39;00m \u001b[39mnot\u001b[39;00m \u001b[39mNone\u001b[39;00m:\n",
      "\u001b[1;31mKeyboardInterrupt\u001b[0m: "
     ]
    }
   ],
   "source": [
    "# Define your model\n",
    "model = Sequential()\n",
    "model.add(LSTM(50, return_sequences=True))\n",
    "model.add(GlobalMaxPooling1D())\n",
    "model.add(Dense(3, activation='softmax'))  # Change number of units and activation function\n",
    "\n",
    "# Compile your model\n",
    "model.compile(loss='categorical_crossentropy', optimizer='adam', metrics=['accuracy'])\n",
    "\n",
    "# Pad the sequences to a fixed length\n",
    "X_train_padded = pad_sequences(X_train, dtype='float32', padding='post')\n",
    "X_test_padded = pad_sequences(X_test, dtype='float32', padding='post')\n",
    "\n",
    "# Now, you can feed the padded sequences into your model\n",
    "model.fit(X_train_padded, y_train, epochs=20, batch_size=32)\n",
    "\n",
    "# Evaluate your model\n",
    "test_loss, test_accuracy = model.evaluate(X_test_padded, y_test)\n",
    "print(f'Test Accuracy: {test_accuracy * 100:.2f}%')"
   ]
  },
  {
   "cell_type": "code",
   "execution_count": 27,
   "metadata": {},
   "outputs": [
    {
     "name": "stderr",
     "output_type": "stream",
     "text": [
      "c:\\Users\\Asus\\Documents\\aUniversidad\\SEMESTRE 23-2\\Bio_I\\Proyecto\\venv\\lib\\site-packages\\keras\\src\\engine\\training.py:3103: UserWarning: You are saving your model as an HDF5 file via `model.save()`. This file format is considered legacy. We recommend using instead the native Keras format, e.g. `model.save('my_model.keras')`.\n",
      "  saving_api.save_model(\n"
     ]
    }
   ],
   "source": [
    "# Save the model\n",
    "model.save('my_modelV2.h5')"
   ]
  },
  {
   "cell_type": "code",
   "execution_count": 8,
   "metadata": {},
   "outputs": [
    {
     "name": "stderr",
     "output_type": "stream",
     "text": [
      "c:\\Users\\Asus\\Documents\\aUniversidad\\SEMESTRE 23-2\\Bio_I\\Proyecto\\venv\\lib\\site-packages\\sklearn\\base.py:465: UserWarning: X does not have valid feature names, but StandardScaler was fitted with feature names\n",
      "  warnings.warn(\n"
     ]
    },
    {
     "name": "stdout",
     "output_type": "stream",
     "text": [
      "1/1 [==============================] - 0s 339ms/step\n",
      "[0]\n"
     ]
    }
   ],
   "source": [
    "# Load the new dataset\n",
    "from keras.models import load_model\n",
    "probe_data = pd.read_csv('prueba3.csv')\n",
    "loadmodel = load_model('my_modelV2.h5')\n",
    "\n",
    "# Preprocess the probe data in the same way as your training data\n",
    "X_probe = []\n",
    "for label, group in probe_data.groupby('label'):\n",
    "    seq = group[['horizontal', 'vertical']].values\n",
    "    seq = scaler.transform(seq)  # Normalize the data\n",
    "    X_probe.append(seq)\n",
    "X_probe = pad_sequences(X_probe, dtype='float32', padding='post')\n",
    "\n",
    "# Use the model to predict the class labels for the probe data\n",
    "y_probe_pred = model.predict(X_probe)\n",
    "\n",
    "# The output, y_probe_pred, is a 2D array with the probabilities for each class.\n",
    "# To get the predicted class labels, you can use argmax to find the class with the highest probability.\n",
    "y_probe_pred_labels = np.argmax(y_probe_pred, axis=1)\n",
    "print(y_probe_pred_labels)"
   ]
  },
  {
   "cell_type": "code",
   "execution_count": 4,
   "metadata": {},
   "outputs": [
    {
     "name": "stdout",
     "output_type": "stream",
     "text": [
      "WARNING:tensorflow:From c:\\Users\\Asus\\Documents\\aUniversidad\\SEMESTRE 23-2\\Bio_I\\Proyecto\\venv\\lib\\site-packages\\keras\\src\\backend.py:873: The name tf.get_default_graph is deprecated. Please use tf.compat.v1.get_default_graph instead.\n",
      "\n",
      "WARNING:tensorflow:From c:\\Users\\Asus\\Documents\\aUniversidad\\SEMESTRE 23-2\\Bio_I\\Proyecto\\venv\\lib\\site-packages\\keras\\src\\optimizers\\__init__.py:309: The name tf.train.Optimizer is deprecated. Please use tf.compat.v1.train.Optimizer instead.\n",
      "\n",
      "Epoch 1/20\n",
      "WARNING:tensorflow:From c:\\Users\\Asus\\Documents\\aUniversidad\\SEMESTRE 23-2\\Bio_I\\Proyecto\\venv\\lib\\site-packages\\keras\\src\\utils\\tf_utils.py:492: The name tf.ragged.RaggedTensorValue is deprecated. Please use tf.compat.v1.ragged.RaggedTensorValue instead.\n",
      "\n",
      "WARNING:tensorflow:From c:\\Users\\Asus\\Documents\\aUniversidad\\SEMESTRE 23-2\\Bio_I\\Proyecto\\venv\\lib\\site-packages\\keras\\src\\engine\\base_layer_utils.py:384: The name tf.executing_eagerly_outside_functions is deprecated. Please use tf.compat.v1.executing_eagerly_outside_functions instead.\n",
      "\n",
      "4/4 [==============================] - ETA: 0s - loss: 1.0640 - accuracy: 0.4439  WARNING:tensorflow:Early stopping conditioned on metric `val_loss` which is not available. Available metrics are: loss,accuracy\n",
      "4/4 [==============================] - 447s 99s/step - loss: 1.0640 - accuracy: 0.4439\n",
      "Epoch 2/20\n",
      "4/4 [==============================] - ETA: 0s - loss: 0.9669 - accuracy: 0.6020  WARNING:tensorflow:Early stopping conditioned on metric `val_loss` which is not available. Available metrics are: loss,accuracy\n",
      "4/4 [==============================] - 448s 101s/step - loss: 0.9669 - accuracy: 0.6020\n",
      "Epoch 3/20\n",
      "4/4 [==============================] - ETA: 0s - loss: 1.0037 - accuracy: 0.6020  WARNING:tensorflow:Early stopping conditioned on metric `val_loss` which is not available. Available metrics are: loss,accuracy\n",
      "4/4 [==============================] - 446s 100s/step - loss: 1.0037 - accuracy: 0.6020\n",
      "Epoch 4/20\n",
      "4/4 [==============================] - ETA: 0s - loss: 0.9908 - accuracy: 0.6020  WARNING:tensorflow:Early stopping conditioned on metric `val_loss` which is not available. Available metrics are: loss,accuracy\n",
      "4/4 [==============================] - 451s 100s/step - loss: 0.9908 - accuracy: 0.6020\n",
      "Epoch 5/20\n",
      "4/4 [==============================] - ETA: 0s - loss: 0.9406 - accuracy: 0.6020  WARNING:tensorflow:Early stopping conditioned on metric `val_loss` which is not available. Available metrics are: loss,accuracy\n",
      "4/4 [==============================] - 2736s 104s/step - loss: 0.9406 - accuracy: 0.6020\n",
      "Epoch 6/20\n",
      "4/4 [==============================] - ETA: 0s - loss: 0.9095 - accuracy: 0.6020  WARNING:tensorflow:Early stopping conditioned on metric `val_loss` which is not available. Available metrics are: loss,accuracy\n",
      "4/4 [==============================] - 446s 99s/step - loss: 0.9095 - accuracy: 0.6020\n",
      "Epoch 7/20\n",
      "4/4 [==============================] - ETA: 0s - loss: 0.8808 - accuracy: 0.6020  WARNING:tensorflow:Early stopping conditioned on metric `val_loss` which is not available. Available metrics are: loss,accuracy\n",
      "4/4 [==============================] - 450s 100s/step - loss: 0.8808 - accuracy: 0.6020\n",
      "Epoch 8/20\n",
      "4/4 [==============================] - ETA: 0s - loss: 0.8540 - accuracy: 0.6020  WARNING:tensorflow:Early stopping conditioned on metric `val_loss` which is not available. Available metrics are: loss,accuracy\n",
      "4/4 [==============================] - 452s 101s/step - loss: 0.8540 - accuracy: 0.6020\n",
      "Epoch 9/20\n",
      "4/4 [==============================] - ETA: 0s - loss: 0.8461 - accuracy: 0.6020  WARNING:tensorflow:Early stopping conditioned on metric `val_loss` which is not available. Available metrics are: loss,accuracy\n",
      "4/4 [==============================] - 455s 101s/step - loss: 0.8461 - accuracy: 0.6020\n",
      "Epoch 10/20\n",
      "4/4 [==============================] - ETA: 0s - loss: 0.8240 - accuracy: 0.6020    WARNING:tensorflow:Early stopping conditioned on metric `val_loss` which is not available. Available metrics are: loss,accuracy\n",
      "4/4 [==============================] - 2894s 915s/step - loss: 0.8240 - accuracy: 0.6020\n",
      "Epoch 11/20\n",
      "4/4 [==============================] - ETA: 0s - loss: 0.7981 - accuracy: 0.6276  WARNING:tensorflow:Early stopping conditioned on metric `val_loss` which is not available. Available metrics are: loss,accuracy\n",
      "4/4 [==============================] - 447s 100s/step - loss: 0.7981 - accuracy: 0.6276\n",
      "Epoch 12/20\n",
      "4/4 [==============================] - ETA: 0s - loss: 0.8068 - accuracy: 0.7296  WARNING:tensorflow:Early stopping conditioned on metric `val_loss` which is not available. Available metrics are: loss,accuracy\n",
      "4/4 [==============================] - 448s 100s/step - loss: 0.8068 - accuracy: 0.7296\n",
      "Epoch 13/20\n",
      "4/4 [==============================] - ETA: 0s - loss: 0.7782 - accuracy: 0.7143  WARNING:tensorflow:Early stopping conditioned on metric `val_loss` which is not available. Available metrics are: loss,accuracy\n",
      "4/4 [==============================] - 453s 100s/step - loss: 0.7782 - accuracy: 0.7143\n",
      "Epoch 14/20\n",
      "4/4 [==============================] - ETA: 0s - loss: 0.7962 - accuracy: 0.7041  WARNING:tensorflow:Early stopping conditioned on metric `val_loss` which is not available. Available metrics are: loss,accuracy\n",
      "4/4 [==============================] - 454s 102s/step - loss: 0.7962 - accuracy: 0.7041\n",
      "Epoch 15/20\n",
      "4/4 [==============================] - ETA: 0s - loss: 0.7549 - accuracy: 0.7296  WARNING:tensorflow:Early stopping conditioned on metric `val_loss` which is not available. Available metrics are: loss,accuracy\n",
      "4/4 [==============================] - 2211s 100s/step - loss: 0.7549 - accuracy: 0.7296\n",
      "Epoch 16/20\n",
      "4/4 [==============================] - ETA: 0s - loss: 0.7487 - accuracy: 0.7551  WARNING:tensorflow:Early stopping conditioned on metric `val_loss` which is not available. Available metrics are: loss,accuracy\n",
      "4/4 [==============================] - 440s 98s/step - loss: 0.7487 - accuracy: 0.7551\n",
      "Epoch 17/20\n",
      "4/4 [==============================] - ETA: 0s - loss: 0.7293 - accuracy: 0.7551  WARNING:tensorflow:Early stopping conditioned on metric `val_loss` which is not available. Available metrics are: loss,accuracy\n",
      "4/4 [==============================] - 452s 101s/step - loss: 0.7293 - accuracy: 0.7551\n",
      "Epoch 18/20\n",
      "4/4 [==============================] - ETA: 0s - loss: 0.7293 - accuracy: 0.7245  WARNING:tensorflow:Early stopping conditioned on metric `val_loss` which is not available. Available metrics are: loss,accuracy\n",
      "4/4 [==============================] - 446s 100s/step - loss: 0.7293 - accuracy: 0.7245\n",
      "Epoch 19/20\n",
      "4/4 [==============================] - ETA: 0s - loss: 0.7406 - accuracy: 0.6990  WARNING:tensorflow:Early stopping conditioned on metric `val_loss` which is not available. Available metrics are: loss,accuracy\n",
      "4/4 [==============================] - 448s 100s/step - loss: 0.7406 - accuracy: 0.6990\n",
      "Epoch 20/20\n",
      "4/4 [==============================] - ETA: 0s - loss: 0.7333 - accuracy: 0.6633  WARNING:tensorflow:Early stopping conditioned on metric `val_loss` which is not available. Available metrics are: loss,accuracy\n",
      "4/4 [==============================] - 450s 101s/step - loss: 0.7333 - accuracy: 0.6633\n",
      "2/2 [==============================] - 4s 615ms/step - loss: 0.8349 - accuracy: 0.6327\n",
      "Test Accuracy: 63.27%\n"
     ]
    }
   ],
   "source": [
    "from keras.callbacks import EarlyStopping\n",
    "from keras.layers import Dropout\n",
    "from keras import regularizers\n",
    "\n",
    "# Define your model\n",
    "model = Sequential()\n",
    "model.add(LSTM(100, return_sequences=True, kernel_regularizer=regularizers.l2(0.01)))  # L2 regularization\n",
    "model.add(Dropout(0.5))  # Dropout\n",
    "model.add(GlobalMaxPooling1D())\n",
    "model.add(Dense(3, activation='softmax'))\n",
    "\n",
    "# Compile your model\n",
    "model.compile(loss='categorical_crossentropy', optimizer='adam', metrics=['accuracy'])\n",
    "\n",
    "# Pad the sequences to a fixed length\n",
    "X_train_padded = pad_sequences(X_train, dtype='float32', padding='post')\n",
    "X_test_padded = pad_sequences(X_test, dtype='float32', padding='post')\n",
    "\n",
    "# Now, you can feed the padded sequences into your model\n",
    "early_stop = EarlyStopping(monitor='val_loss', patience=3)\n",
    "model.fit(X_train_padded, y_train, epochs=20, batch_size=64, callbacks=[early_stop])\n",
    "\n",
    "# Evaluate your model\n",
    "test_loss, test_accuracy = model.evaluate(X_test_padded, y_test)\n",
    "print(f'Test Accuracy: {test_accuracy * 100:.2f}%')"
   ]
  },
  {
   "cell_type": "code",
   "execution_count": null,
   "metadata": {},
   "outputs": [],
   "source": [
    "import pandas as pd\n",
    "import matplotlib.pyplot as plt\n",
    "\n",
    "# Load the data\n",
    "data = pd.read_csv('SuperData.csv')\n",
    "\n",
    "# Get the unique sessions\n",
    "sessions = data['label'].unique()\n",
    "\n",
    "# Plot each session\n",
    "for session in sessions:\n",
    "    session_data = data[data['label'] == session]\n",
    "    \n",
    "    plt.figure(figsize=(10, 6))\n",
    "    plt.plot(session_data['horizontal'], label='Horizontal')\n",
    "    plt.plot(session_data['vertical'], label='Vertical')\n",
    "    plt.title(f'Session {session}')\n",
    "    plt.xlabel('Time')\n",
    "    plt.ylabel('Amplitude')\n",
    "    plt.legend()\n",
    "    plt.show()"
   ]
  },
  {
   "cell_type": "code",
   "execution_count": 17,
   "metadata": {},
   "outputs": [],
   "source": [
    "# Load the left and right datasets\n",
    "left_data = pd.read_csv('LEFT_.csv')\n",
    "right_data = pd.read_csv('RIGHT_.csv')\n",
    "\n",
    "# Get the maximum label in the left dataset\n",
    "max_left_label = right_data['label'].max()\n",
    "\n",
    "# Increment the labels in the right dataset so they're unique\n",
    "left_data['label'] += max_left_label\n",
    "\n",
    "# Append the right dataset to the left dataset\n",
    "data = pd.concat([right_data, left_data], ignore_index=True)\n",
    "\n",
    "# Save the combined dataset\n",
    "data.to_csv('SuperData.csv', index=False)"
   ]
  },
  {
   "cell_type": "code",
   "execution_count": 10,
   "metadata": {},
   "outputs": [],
   "source": [
    "# Load the extra dataset\n",
    "extra_data = pd.read_csv('UP_.csv')\n",
    "data = pd.read_csv('SuperData.csv')\n",
    "\n",
    "# Get the maximum label in the current data\n",
    "max_label = data['label'].max()\n",
    "\n",
    "# Increment the labels in the extra dataset so they're unique\n",
    "extra_data['label'] += max_label\n",
    "\n",
    "# Append the extra dataset to the current data\n",
    "data = pd.concat([data, extra_data], ignore_index=True)\n",
    "\n",
    "# Save the combined dataset\n",
    "data.to_csv('SuperData.csv', index=False)"
   ]
  }
 ],
 "metadata": {
  "kernelspec": {
   "display_name": "venv",
   "language": "python",
   "name": "python3"
  },
  "language_info": {
   "codemirror_mode": {
    "name": "ipython",
    "version": 3
   },
   "file_extension": ".py",
   "mimetype": "text/x-python",
   "name": "python",
   "nbconvert_exporter": "python",
   "pygments_lexer": "ipython3",
   "version": "3.9.0"
  }
 },
 "nbformat": 4,
 "nbformat_minor": 2
}
