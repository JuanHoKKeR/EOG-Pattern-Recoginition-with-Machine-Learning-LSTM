{
 "cells": [
  {
   "cell_type": "code",
   "execution_count": 2,
   "metadata": {},
   "outputs": [
    {
     "name": "stdout",
     "output_type": "stream",
     "text": [
      "WARNING:tensorflow:From c:\\Users\\Asus\\Documents\\aUniversidad\\SEMESTRE 23-2\\Bio_I\\Proyecto\\venv\\lib\\site-packages\\keras\\src\\losses.py:2976: The name tf.losses.sparse_softmax_cross_entropy is deprecated. Please use tf.compat.v1.losses.sparse_softmax_cross_entropy instead.\n",
      "\n"
     ]
    }
   ],
   "source": [
    "import pandas as pd\n",
    "from sklearn.model_selection import train_test_split\n",
    "from sklearn.preprocessing import StandardScaler\n",
    "from tensorflow.keras.models import Sequential\n",
    "from tensorflow.keras.layers import Dense, Conv1D, Flatten, MaxPooling1D\n",
    "from tensorflow.keras.utils import to_categorical"
   ]
  },
  {
   "cell_type": "code",
   "execution_count": 3,
   "metadata": {},
   "outputs": [],
   "source": [
    "# Nombres de los archivos\n",
    "archivos = ['RIGHT.csv', 'LEFT.csv', 'UP.csv', 'DOWN.csv', 'PRESS.csv']\n",
    "# Cargar y combinar los archivos\n",
    "data_df = pd.concat([pd.read_csv(archivo) for archivo in archivos], ignore_index=True)"
   ]
  },
  {
   "cell_type": "code",
   "execution_count": 5,
   "metadata": {},
   "outputs": [],
   "source": [
    "# Normalización de los datos\n",
    "scaler = StandardScaler()\n",
    "data_df[['horizontal', 'vertical']] = scaler.fit_transform(data_df[['horizontal', 'vertical']])"
   ]
  },
  {
   "cell_type": "code",
   "execution_count": 6,
   "metadata": {},
   "outputs": [],
   "source": [
    "# Preparar los datos de entrada y salida\n",
    "X = data_df[['horizontal', 'vertical']].values\n",
    "y = to_categorical(data_df['label'].values)  # One-hot encoding para las etiquetas"
   ]
  },
  {
   "cell_type": "code",
   "execution_count": 8,
   "metadata": {},
   "outputs": [],
   "source": [
    "# Dividir los datos en entrenamiento y prueba\n",
    "X_train, X_test, y_train, y_test = train_test_split(X, y, test_size=0.2, random_state=42)"
   ]
  },
  {
   "cell_type": "code",
   "execution_count": 9,
   "metadata": {},
   "outputs": [],
   "source": [
    "# Redimensionar los datos para la CNN 1D\n",
    "X_train = X_train.reshape(X_train.shape[0], X_train.shape[1], 1)\n",
    "X_test = X_test.reshape(X_test.shape[0], X_test.shape[1], 1)"
   ]
  },
  {
   "cell_type": "code",
   "execution_count": 11,
   "metadata": {},
   "outputs": [],
   "source": [
    "# Construir el modelo\n",
    "model = Sequential()\n",
    "model.add(Conv1D(filters=64, kernel_size=1, activation='relu', input_shape=(2, 1)))  # kernel_size reducido a 1\n",
    "model.add(Flatten())\n",
    "model.add(Dense(50, activation='relu'))\n",
    "model.add(Dense(y.shape[1], activation='softmax'))"
   ]
  },
  {
   "cell_type": "code",
   "execution_count": 12,
   "metadata": {},
   "outputs": [
    {
     "name": "stdout",
     "output_type": "stream",
     "text": [
      "WARNING:tensorflow:From c:\\Users\\Asus\\Documents\\aUniversidad\\SEMESTRE 23-2\\Bio_I\\Proyecto\\venv\\lib\\site-packages\\keras\\src\\optimizers\\__init__.py:309: The name tf.train.Optimizer is deprecated. Please use tf.compat.v1.train.Optimizer instead.\n",
      "\n"
     ]
    }
   ],
   "source": [
    "# Compilar el modelo\n",
    "model.compile(optimizer='adam', loss='categorical_crossentropy', metrics=['accuracy'])"
   ]
  },
  {
   "cell_type": "code",
   "execution_count": 13,
   "metadata": {},
   "outputs": [
    {
     "name": "stdout",
     "output_type": "stream",
     "text": [
      "Epoch 1/10\n",
      "WARNING:tensorflow:From c:\\Users\\Asus\\Documents\\aUniversidad\\SEMESTRE 23-2\\Bio_I\\Proyecto\\venv\\lib\\site-packages\\keras\\src\\utils\\tf_utils.py:492: The name tf.ragged.RaggedTensorValue is deprecated. Please use tf.compat.v1.ragged.RaggedTensorValue instead.\n",
      "\n",
      "WARNING:tensorflow:From c:\\Users\\Asus\\Documents\\aUniversidad\\SEMESTRE 23-2\\Bio_I\\Proyecto\\venv\\lib\\site-packages\\keras\\src\\engine\\base_layer_utils.py:384: The name tf.executing_eagerly_outside_functions is deprecated. Please use tf.compat.v1.executing_eagerly_outside_functions instead.\n",
      "\n",
      "16641/16641 [==============================] - 253s 15ms/step - loss: 3.7315 - accuracy: 0.0561 - val_loss: 3.6558 - val_accuracy: 0.0652\n",
      "Epoch 2/10\n",
      "16641/16641 [==============================] - 243s 15ms/step - loss: 3.6316 - accuracy: 0.0710 - val_loss: 3.6049 - val_accuracy: 0.0740\n",
      "Epoch 3/10\n",
      "16641/16641 [==============================] - 258s 16ms/step - loss: 3.5879 - accuracy: 0.0752 - val_loss: 3.5739 - val_accuracy: 0.0767\n",
      "Epoch 4/10\n",
      "16641/16641 [==============================] - 238s 14ms/step - loss: 3.5599 - accuracy: 0.0789 - val_loss: 3.5501 - val_accuracy: 0.0799\n",
      "Epoch 5/10\n",
      "16641/16641 [==============================] - 248s 15ms/step - loss: 3.5403 - accuracy: 0.0804 - val_loss: 3.5296 - val_accuracy: 0.0850\n",
      "Epoch 6/10\n",
      "16641/16641 [==============================] - 267s 16ms/step - loss: 3.5250 - accuracy: 0.0831 - val_loss: 3.5251 - val_accuracy: 0.0831\n",
      "Epoch 7/10\n",
      "16641/16641 [==============================] - 270s 16ms/step - loss: 3.5133 - accuracy: 0.0840 - val_loss: 3.5133 - val_accuracy: 0.0868\n",
      "Epoch 8/10\n",
      "16641/16641 [==============================] - 244s 15ms/step - loss: 3.5033 - accuracy: 0.0847 - val_loss: 3.4951 - val_accuracy: 0.0887\n",
      "Epoch 9/10\n",
      "16641/16641 [==============================] - 243s 15ms/step - loss: 3.4956 - accuracy: 0.0869 - val_loss: 3.4884 - val_accuracy: 0.0902\n",
      "Epoch 10/10\n",
      "16641/16641 [==============================] - 235s 14ms/step - loss: 3.4895 - accuracy: 0.0878 - val_loss: 3.4902 - val_accuracy: 0.0898\n"
     ]
    },
    {
     "data": {
      "text/plain": [
       "<keras.src.callbacks.History at 0x185ba4e3be0>"
      ]
     },
     "execution_count": 13,
     "metadata": {},
     "output_type": "execute_result"
    }
   ],
   "source": [
    "# Entrenar el modelo\n",
    "model.fit(X_train, y_train, epochs=10, batch_size=10, validation_data=(X_test, y_test))"
   ]
  },
  {
   "cell_type": "code",
   "execution_count": 14,
   "metadata": {},
   "outputs": [
    {
     "name": "stdout",
     "output_type": "stream",
     "text": [
      "1301/1301 [==============================] - 12s 9ms/step - loss: 3.4902 - accuracy: 0.0898\n",
      "Loss: 3.4901907444000244, Accuracy: 0.08980553597211838\n"
     ]
    }
   ],
   "source": [
    "# Evaluar el modelo\n",
    "loss, accuracy = model.evaluate(X_test, y_test)\n",
    "print(f'Loss: {loss}, Accuracy: {accuracy}')"
   ]
  },
  {
   "cell_type": "code",
   "execution_count": 15,
   "metadata": {},
   "outputs": [],
   "source": [
    "from sklearn.metrics import confusion_matrix\n",
    "import numpy as np"
   ]
  },
  {
   "cell_type": "code",
   "execution_count": 16,
   "metadata": {},
   "outputs": [
    {
     "name": "stdout",
     "output_type": "stream",
     "text": [
      "1301/1301 [==============================] - 9s 6ms/step\n"
     ]
    }
   ],
   "source": [
    "# Realizar predicciones\n",
    "y_pred = model.predict(X_test)\n",
    "y_pred_classes = np.argmax(y_pred, axis=1)\n",
    "y_true = np.argmax(y_test, axis=1)"
   ]
  },
  {
   "cell_type": "code",
   "execution_count": 17,
   "metadata": {},
   "outputs": [
    {
     "name": "stdout",
     "output_type": "stream",
     "text": [
      "[[366   0  32 ...  34  90  10]\n",
      " [ 68   9  35 ...   0  81  15]\n",
      " [ 92   0  34 ...   2  79   6]\n",
      " ...\n",
      " [ 30   0   2 ... 121  48  13]\n",
      " [108   0   6 ...  35 223  28]\n",
      " [ 41   4   0 ...   5  59 113]]\n"
     ]
    }
   ],
   "source": [
    "# Calcular la matriz de confusión\n",
    "cm = confusion_matrix(y_true, y_pred_classes)\n",
    "print(cm)"
   ]
  },
  {
   "cell_type": "code",
   "execution_count": 22,
   "metadata": {},
   "outputs": [
    {
     "name": "stdout",
     "output_type": "stream",
     "text": [
      "Epoch 1/100\n",
      "5201/5201 [==============================] - 86s 14ms/step - loss: 3.7663 - accuracy: 0.0517\n",
      "Epoch 2/100\n",
      "5201/5201 [==============================] - 79s 15ms/step - loss: 3.6005 - accuracy: 0.0748\n",
      "Epoch 3/100\n",
      "5201/5201 [==============================] - 82s 16ms/step - loss: 3.5248 - accuracy: 0.0846\n",
      "Epoch 4/100\n",
      "5201/5201 [==============================] - 86s 17ms/step - loss: 3.4811 - accuracy: 0.0891\n",
      "Epoch 5/100\n",
      "5201/5201 [==============================] - 82s 16ms/step - loss: 3.4512 - accuracy: 0.0939\n",
      "Epoch 6/100\n",
      "5201/5201 [==============================] - 79s 15ms/step - loss: 3.4304 - accuracy: 0.0955\n",
      "Epoch 7/100\n",
      "5201/5201 [==============================] - 79s 15ms/step - loss: 3.4139 - accuracy: 0.0988\n",
      "Epoch 8/100\n",
      "5201/5201 [==============================] - 75s 14ms/step - loss: 3.4024 - accuracy: 0.0993\n",
      "Epoch 9/100\n",
      "5201/5201 [==============================] - 79s 15ms/step - loss: 3.3918 - accuracy: 0.1012\n",
      "Epoch 10/100\n",
      "5201/5201 [==============================] - 83s 16ms/step - loss: 3.3833 - accuracy: 0.1024\n",
      "Epoch 11/100\n",
      "5201/5201 [==============================] - 77s 15ms/step - loss: 3.3761 - accuracy: 0.1037\n",
      "Epoch 12/100\n",
      "5201/5201 [==============================] - 77s 15ms/step - loss: 3.3697 - accuracy: 0.1046\n",
      "Epoch 13/100\n",
      "5201/5201 [==============================] - 78s 15ms/step - loss: 3.3645 - accuracy: 0.1055\n",
      "Epoch 14/100\n",
      "5201/5201 [==============================] - 77s 15ms/step - loss: 3.3588 - accuracy: 0.1048\n",
      "Epoch 15/100\n",
      "5201/5201 [==============================] - 78s 15ms/step - loss: 3.3544 - accuracy: 0.1057\n",
      "Epoch 16/100\n",
      "5201/5201 [==============================] - 74s 14ms/step - loss: 3.3498 - accuracy: 0.1071\n",
      "Epoch 17/100\n",
      "5201/5201 [==============================] - 76s 15ms/step - loss: 3.3462 - accuracy: 0.1076\n",
      "Epoch 18/100\n",
      "5201/5201 [==============================] - 76s 15ms/step - loss: 3.3424 - accuracy: 0.1081\n",
      "Epoch 19/100\n",
      "5201/5201 [==============================] - 85s 16ms/step - loss: 3.3384 - accuracy: 0.1088\n",
      "Epoch 20/100\n",
      "5201/5201 [==============================] - 78s 15ms/step - loss: 3.3357 - accuracy: 0.1101\n",
      "Epoch 21/100\n",
      "5201/5201 [==============================] - 77s 15ms/step - loss: 3.3332 - accuracy: 0.1097\n",
      "Epoch 22/100\n",
      "5201/5201 [==============================] - 75s 14ms/step - loss: 3.3300 - accuracy: 0.1091\n",
      "Epoch 23/100\n",
      "5201/5201 [==============================] - 71s 14ms/step - loss: 3.3277 - accuracy: 0.1107\n",
      "Epoch 24/100\n",
      "5201/5201 [==============================] - 70s 13ms/step - loss: 3.3247 - accuracy: 0.1101\n",
      "Epoch 25/100\n",
      "5201/5201 [==============================] - 73s 14ms/step - loss: 3.3230 - accuracy: 0.1104\n",
      "Epoch 26/100\n",
      "5201/5201 [==============================] - 70s 14ms/step - loss: 3.3206 - accuracy: 0.1106\n",
      "Epoch 27/100\n",
      "5201/5201 [==============================] - 71s 14ms/step - loss: 3.3180 - accuracy: 0.1116\n",
      "Epoch 28/100\n",
      "5201/5201 [==============================] - 70s 13ms/step - loss: 3.3165 - accuracy: 0.1117\n",
      "Epoch 29/100\n",
      "5201/5201 [==============================] - 70s 13ms/step - loss: 3.3140 - accuracy: 0.1124\n",
      "Epoch 30/100\n",
      "5201/5201 [==============================] - 71s 14ms/step - loss: 3.3130 - accuracy: 0.1122\n",
      "Epoch 31/100\n",
      "5201/5201 [==============================] - 71s 14ms/step - loss: 3.3111 - accuracy: 0.1118\n",
      "Epoch 32/100\n",
      "5201/5201 [==============================] - 70s 13ms/step - loss: 3.3088 - accuracy: 0.1134\n",
      "Epoch 33/100\n",
      "5201/5201 [==============================] - 99s 19ms/step - loss: 3.3074 - accuracy: 0.1127\n",
      "Epoch 34/100\n",
      "5201/5201 [==============================] - 117s 23ms/step - loss: 3.3057 - accuracy: 0.1134\n",
      "Epoch 35/100\n",
      "5201/5201 [==============================] - 77s 15ms/step - loss: 3.3039 - accuracy: 0.1132\n",
      "Epoch 36/100\n",
      "5201/5201 [==============================] - 75s 14ms/step - loss: 3.3031 - accuracy: 0.1125\n",
      "Epoch 37/100\n",
      "5201/5201 [==============================] - 77s 15ms/step - loss: 3.3015 - accuracy: 0.1131\n",
      "Epoch 38/100\n",
      "5201/5201 [==============================] - 75s 15ms/step - loss: 3.2999 - accuracy: 0.1140\n",
      "Epoch 39/100\n",
      "5201/5201 [==============================] - 77s 15ms/step - loss: 3.2980 - accuracy: 0.1143\n",
      "Epoch 40/100\n",
      "5201/5201 [==============================] - 75s 14ms/step - loss: 3.2967 - accuracy: 0.1147\n",
      "Epoch 41/100\n",
      "5201/5201 [==============================] - 78s 15ms/step - loss: 3.2954 - accuracy: 0.1139\n",
      "Epoch 42/100\n",
      "5201/5201 [==============================] - 75s 14ms/step - loss: 3.2941 - accuracy: 0.1139\n",
      "Epoch 43/100\n",
      "5201/5201 [==============================] - 76s 15ms/step - loss: 3.2927 - accuracy: 0.1156\n",
      "Epoch 44/100\n",
      "5201/5201 [==============================] - 76s 15ms/step - loss: 3.2927 - accuracy: 0.1139\n",
      "Epoch 45/100\n",
      "5201/5201 [==============================] - 78s 15ms/step - loss: 3.2905 - accuracy: 0.1153\n",
      "Epoch 46/100\n",
      "5201/5201 [==============================] - 77s 15ms/step - loss: 3.2894 - accuracy: 0.1145\n",
      "Epoch 47/100\n",
      "5201/5201 [==============================] - 77s 15ms/step - loss: 3.2880 - accuracy: 0.1144\n",
      "Epoch 48/100\n",
      "5201/5201 [==============================] - 75s 15ms/step - loss: 3.2871 - accuracy: 0.1156\n",
      "Epoch 49/100\n",
      "5201/5201 [==============================] - 78s 15ms/step - loss: 3.2868 - accuracy: 0.1152\n",
      "Epoch 50/100\n",
      "5201/5201 [==============================] - 77s 15ms/step - loss: 3.2858 - accuracy: 0.1152\n",
      "Epoch 51/100\n",
      "5201/5201 [==============================] - 74s 14ms/step - loss: 3.2842 - accuracy: 0.1159\n",
      "Epoch 52/100\n",
      "5201/5201 [==============================] - 74s 14ms/step - loss: 3.2830 - accuracy: 0.1158\n",
      "Epoch 53/100\n",
      "5201/5201 [==============================] - 75s 14ms/step - loss: 3.2825 - accuracy: 0.1169\n",
      "Epoch 54/100\n",
      "5201/5201 [==============================] - 74s 14ms/step - loss: 3.2811 - accuracy: 0.1160\n",
      "Epoch 55/100\n",
      "5201/5201 [==============================] - 76s 15ms/step - loss: 3.2805 - accuracy: 0.1163\n",
      "Epoch 56/100\n",
      "5201/5201 [==============================] - 75s 14ms/step - loss: 3.2801 - accuracy: 0.1155\n",
      "Epoch 57/100\n",
      "5201/5201 [==============================] - 75s 14ms/step - loss: 3.2791 - accuracy: 0.1172\n",
      "Epoch 58/100\n",
      "5201/5201 [==============================] - 75s 14ms/step - loss: 3.2784 - accuracy: 0.1168\n",
      "Epoch 59/100\n",
      "5201/5201 [==============================] - 75s 14ms/step - loss: 3.2771 - accuracy: 0.1174\n",
      "Epoch 60/100\n",
      "5201/5201 [==============================] - 74s 14ms/step - loss: 3.2760 - accuracy: 0.1164\n",
      "Epoch 61/100\n",
      "5201/5201 [==============================] - 76s 15ms/step - loss: 3.2761 - accuracy: 0.1173\n",
      "Epoch 62/100\n",
      "5201/5201 [==============================] - 75s 14ms/step - loss: 3.2753 - accuracy: 0.1176\n",
      "Epoch 63/100\n",
      "5201/5201 [==============================] - 74s 14ms/step - loss: 3.2743 - accuracy: 0.1169\n",
      "Epoch 64/100\n",
      "5201/5201 [==============================] - 73s 14ms/step - loss: 3.2736 - accuracy: 0.1176\n",
      "Epoch 65/100\n",
      "5201/5201 [==============================] - 76s 15ms/step - loss: 3.2724 - accuracy: 0.1171\n",
      "Epoch 66/100\n",
      "5201/5201 [==============================] - 58s 11ms/step - loss: 3.2723 - accuracy: 0.1187\n",
      "Epoch 67/100\n",
      "5201/5201 [==============================] - 57s 11ms/step - loss: 3.2713 - accuracy: 0.1185\n",
      "Epoch 68/100\n",
      "5201/5201 [==============================] - 57s 11ms/step - loss: 3.2707 - accuracy: 0.1180\n",
      "Epoch 69/100\n",
      "5201/5201 [==============================] - 72s 14ms/step - loss: 3.2699 - accuracy: 0.1175\n",
      "Epoch 70/100\n",
      "5201/5201 [==============================] - 59s 11ms/step - loss: 3.2697 - accuracy: 0.1178\n",
      "Epoch 71/100\n",
      "5201/5201 [==============================] - 62s 12ms/step - loss: 3.2685 - accuracy: 0.1185\n",
      "Epoch 72/100\n",
      "5201/5201 [==============================] - 62s 12ms/step - loss: 3.2681 - accuracy: 0.1175\n",
      "Epoch 73/100\n",
      "5201/5201 [==============================] - 57s 11ms/step - loss: 3.2674 - accuracy: 0.1189\n",
      "Epoch 74/100\n",
      "5201/5201 [==============================] - 58s 11ms/step - loss: 3.2667 - accuracy: 0.1186\n",
      "Epoch 75/100\n",
      "5201/5201 [==============================] - 61s 12ms/step - loss: 3.2667 - accuracy: 0.1178\n",
      "Epoch 76/100\n",
      "5201/5201 [==============================] - 58s 11ms/step - loss: 3.2660 - accuracy: 0.1182\n",
      "Epoch 77/100\n",
      "5201/5201 [==============================] - 59s 11ms/step - loss: 3.2651 - accuracy: 0.1192\n",
      "Epoch 78/100\n",
      "5201/5201 [==============================] - 58s 11ms/step - loss: 3.2640 - accuracy: 0.1187\n",
      "Epoch 79/100\n",
      "5201/5201 [==============================] - 71s 14ms/step - loss: 3.2637 - accuracy: 0.1190\n",
      "Epoch 80/100\n",
      "5201/5201 [==============================] - 71s 14ms/step - loss: 3.2631 - accuracy: 0.1187\n",
      "Epoch 81/100\n",
      "5201/5201 [==============================] - 67s 13ms/step - loss: 3.2628 - accuracy: 0.1191\n",
      "Epoch 82/100\n",
      "5201/5201 [==============================] - 59s 11ms/step - loss: 3.2620 - accuracy: 0.1200\n",
      "Epoch 83/100\n",
      "5201/5201 [==============================] - 70s 13ms/step - loss: 3.2618 - accuracy: 0.1195\n",
      "Epoch 84/100\n",
      "5201/5201 [==============================] - 68s 13ms/step - loss: 3.2609 - accuracy: 0.1194\n",
      "Epoch 85/100\n",
      "5201/5201 [==============================] - 60s 12ms/step - loss: 3.2604 - accuracy: 0.1203\n",
      "Epoch 86/100\n",
      "5201/5201 [==============================] - 80s 15ms/step - loss: 3.2605 - accuracy: 0.1196\n",
      "Epoch 87/100\n",
      "5201/5201 [==============================] - 82s 16ms/step - loss: 3.2591 - accuracy: 0.1194\n",
      "Epoch 88/100\n",
      "5201/5201 [==============================] - 78s 15ms/step - loss: 3.2588 - accuracy: 0.1199\n",
      "Epoch 89/100\n",
      "5201/5201 [==============================] - 74s 14ms/step - loss: 3.2579 - accuracy: 0.1191\n",
      "Epoch 90/100\n",
      "5201/5201 [==============================] - 67s 13ms/step - loss: 3.2579 - accuracy: 0.1197\n",
      "Epoch 91/100\n",
      "5201/5201 [==============================] - 63s 12ms/step - loss: 3.2573 - accuracy: 0.1200\n",
      "Epoch 92/100\n",
      "5201/5201 [==============================] - 67s 13ms/step - loss: 3.2571 - accuracy: 0.1199\n",
      "Epoch 93/100\n",
      "5201/5201 [==============================] - 73s 14ms/step - loss: 3.2565 - accuracy: 0.1194\n",
      "Epoch 94/100\n",
      "5201/5201 [==============================] - 94s 18ms/step - loss: 3.2560 - accuracy: 0.1209\n",
      "Epoch 95/100\n",
      "5201/5201 [==============================] - 95s 18ms/step - loss: 3.2547 - accuracy: 0.1207\n",
      "Epoch 96/100\n",
      "5201/5201 [==============================] - 94s 18ms/step - loss: 3.2546 - accuracy: 0.1204\n",
      "Epoch 97/100\n",
      "5201/5201 [==============================] - 95s 18ms/step - loss: 3.2542 - accuracy: 0.1204\n",
      "Epoch 98/100\n",
      "5201/5201 [==============================] - 68s 13ms/step - loss: 3.2539 - accuracy: 0.1205\n",
      "Epoch 99/100\n",
      "5201/5201 [==============================] - 68s 13ms/step - loss: 3.2533 - accuracy: 0.1201\n",
      "Epoch 100/100\n",
      "5201/5201 [==============================] - 74s 14ms/step - loss: 3.2532 - accuracy: 0.1203\n",
      "1301/1301 [==============================] - 16s 9ms/step - loss: 3.2861 - accuracy: 0.1180\n",
      "LSTM Test Loss: 3.2861368656158447, Test Accuracy: 0.11795389652252197\n"
     ]
    }
   ],
   "source": [
    "from keras.models import Sequential\n",
    "from keras.layers import LSTM, Dense\n",
    "\n",
    "# Construir el modelo LSTM\n",
    "lstm_model = Sequential()\n",
    "lstm_model.add(LSTM(50, return_sequences=True, input_shape=(X_train.shape[1], 1)))\n",
    "lstm_model.add(LSTM(50))\n",
    "lstm_model.add(Dense(y.shape[1], activation='softmax'))\n",
    "\n",
    "# Compilar\n",
    "lstm_model.compile(optimizer='adam', loss='categorical_crossentropy', metrics=['accuracy'])\n",
    "\n",
    "# Entrenar\n",
    "lstm_model.fit(X_train, y_train, epochs=100, batch_size=32)\n",
    "\n",
    "# Evaluar\n",
    "loss_lstm, accuracy_lstm = lstm_model.evaluate(X_test, y_test)\n",
    "print(f'LSTM Test Loss: {loss_lstm}, Test Accuracy: {accuracy_lstm}')"
   ]
  },
  {
   "cell_type": "code",
   "execution_count": null,
   "metadata": {},
   "outputs": [],
   "source": [
    "import matplotlib.pyplot as plt\n",
    "plt.xlabel('Epochs')\n",
    "plt.ylabel('Loss')\n",
    "plt.plot(model.history.history['loss_lstm'])"
   ]
  },
  {
   "cell_type": "code",
   "execution_count": 25,
   "metadata": {},
   "outputs": [
    {
     "name": "stdout",
     "output_type": "stream",
     "text": [
      "1301/1301 [==============================] - 14s 8ms/step\n",
      "[[284  25  23 ...  22  35  10]\n",
      " [ 69  57  14 ...   1  21  12]\n",
      " [ 49  10  77 ...   0  20  25]\n",
      " ...\n",
      " [ 30   3   5 ... 120  42  13]\n",
      " [ 62   8  28 ...  31 195  28]\n",
      " [ 14   5   7 ...   6  24 122]]\n"
     ]
    }
   ],
   "source": [
    "# Realizar predicciones\n",
    "y_pred = lstm_model.predict(X_test)\n",
    "y_pred_classes = np.argmax(y_pred, axis=1)\n",
    "y_true = np.argmax(y_test, axis=1)\n",
    "cm = confusion_matrix(y_true, y_pred_classes)\n",
    "print(cm)"
   ]
  }
 ],
 "metadata": {
  "kernelspec": {
   "display_name": "venv",
   "language": "python",
   "name": "python3"
  },
  "language_info": {
   "codemirror_mode": {
    "name": "ipython",
    "version": 3
   },
   "file_extension": ".py",
   "mimetype": "text/x-python",
   "name": "python",
   "nbconvert_exporter": "python",
   "pygments_lexer": "ipython3",
   "version": "3.9.0"
  }
 },
 "nbformat": 4,
 "nbformat_minor": 2
}
